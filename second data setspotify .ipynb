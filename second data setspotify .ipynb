{
 "cells": [
  {
   "cell_type": "markdown",
   "id": "7590e39d",
   "metadata": {},
   "source": [
    "# Spotify Top 50 Analysis"
   ]
  },
  {
   "cell_type": "markdown",
   "id": "3ea35832",
   "metadata": {},
   "source": [
    "# import librarys"
   ]
  },
  {
   "cell_type": "code",
   "execution_count": null,
   "id": "734e1d54",
   "metadata": {},
   "outputs": [],
   "source": [
    "import numpy as np\n",
    "import pandas as pd\n",
    "from scipy import stats\n",
    "import matplotlib.pyplot as plt\n",
    "from pandas.plotting import scatter_matrix\n",
    "import  seaborn as sns\n",
    "import warnings\n",
    "#import DataFrame as df\n",
    "#warinings.filterwarnings('ignore')\n",
    "#%matplotlib inline"
   ]
  },
  {
   "cell_type": "markdown",
   "id": "089749d4",
   "metadata": {},
   "source": [
    "# About"
   ]
  },
  {
   "cell_type": "markdown",
   "id": "2e8455d1",
   "metadata": {},
   "source": [
    "# 1)Id an arbitrary unique track identifier"
   ]
  },
  {
   "cell_type": "markdown",
   "id": "78b39105",
   "metadata": {},
   "source": [
    "* Track.Name           :track title\n",
    "* Artist.Name          : singer or band\n",
    "* Genre                :genre of the track (and the target variable for this proble)\n",
    "* bpm(Beats.Per.Minute): beats per minute (tempo)\n",
    "* Energy               : the higher the value the more energetic\n",
    "* Danceability         : the higher the value, the easier it is to dance to this song\n",
    "* Loudness (dB)        : the higher the value, the louder the song\n",
    "* Liveness             : the higher the value, the more likely the song is a live recording\n",
    "* Valence              : the higher the value, the more positive mood for the song\n",
    "* Duration             : the length of the song\n",
    "* Acousticness         : the higher the value the more acoustic\n",
    "* Speechiness          : the higher the value the more spoken word the song contains\n",
    "* popularity           : the higher the value the more popular ."
   ]
  },
  {
   "cell_type": "code",
   "execution_count": 3,
   "id": "6cf3b005",
   "metadata": {},
   "outputs": [
    {
     "data": {
      "text/plain": [
       "(50, 14)"
      ]
     },
     "execution_count": 3,
     "metadata": {},
     "output_type": "execute_result"
    }
   ],
   "source": [
    "go=pd.read_csv('top.csv')\n",
    "go.shape"
   ]
  },
  {
   "cell_type": "code",
   "execution_count": 4,
   "id": "bcf1382c",
   "metadata": {},
   "outputs": [
    {
     "data": {
      "text/html": [
       "<div>\n",
       "<style scoped>\n",
       "    .dataframe tbody tr th:only-of-type {\n",
       "        vertical-align: middle;\n",
       "    }\n",
       "\n",
       "    .dataframe tbody tr th {\n",
       "        vertical-align: top;\n",
       "    }\n",
       "\n",
       "    .dataframe thead th {\n",
       "        text-align: right;\n",
       "    }\n",
       "</style>\n",
       "<table border=\"1\" class=\"dataframe\">\n",
       "  <thead>\n",
       "    <tr style=\"text-align: right;\">\n",
       "      <th></th>\n",
       "      <th>Unnamed: 0</th>\n",
       "      <th>Track Name</th>\n",
       "      <th>Artist Name</th>\n",
       "      <th>Genre</th>\n",
       "      <th>Beats.Per.Minute</th>\n",
       "      <th>Energy</th>\n",
       "      <th>Danceability</th>\n",
       "      <th>Loudness</th>\n",
       "      <th>Liveness</th>\n",
       "      <th>Valence</th>\n",
       "      <th>Length(per second)</th>\n",
       "      <th>Acousticness</th>\n",
       "      <th>Speechiness</th>\n",
       "      <th>Popularity</th>\n",
       "    </tr>\n",
       "  </thead>\n",
       "  <tbody>\n",
       "    <tr>\n",
       "      <th>0</th>\n",
       "      <td>1</td>\n",
       "      <td>Se�orita</td>\n",
       "      <td>Shawn Mendes</td>\n",
       "      <td>canadian pop</td>\n",
       "      <td>117</td>\n",
       "      <td>55</td>\n",
       "      <td>76</td>\n",
       "      <td>-6</td>\n",
       "      <td>8</td>\n",
       "      <td>75</td>\n",
       "      <td>191</td>\n",
       "      <td>4</td>\n",
       "      <td>3</td>\n",
       "      <td>79</td>\n",
       "    </tr>\n",
       "    <tr>\n",
       "      <th>1</th>\n",
       "      <td>2</td>\n",
       "      <td>China</td>\n",
       "      <td>Anuel AA</td>\n",
       "      <td>reggaeton flow</td>\n",
       "      <td>105</td>\n",
       "      <td>81</td>\n",
       "      <td>79</td>\n",
       "      <td>-4</td>\n",
       "      <td>8</td>\n",
       "      <td>61</td>\n",
       "      <td>302</td>\n",
       "      <td>8</td>\n",
       "      <td>9</td>\n",
       "      <td>92</td>\n",
       "    </tr>\n",
       "    <tr>\n",
       "      <th>2</th>\n",
       "      <td>3</td>\n",
       "      <td>boyfriend (with Social House)</td>\n",
       "      <td>Ariana Grande</td>\n",
       "      <td>dance pop</td>\n",
       "      <td>190</td>\n",
       "      <td>80</td>\n",
       "      <td>40</td>\n",
       "      <td>-4</td>\n",
       "      <td>16</td>\n",
       "      <td>70</td>\n",
       "      <td>186</td>\n",
       "      <td>12</td>\n",
       "      <td>46</td>\n",
       "      <td>85</td>\n",
       "    </tr>\n",
       "    <tr>\n",
       "      <th>3</th>\n",
       "      <td>4</td>\n",
       "      <td>Beautiful People (feat. Khalid)</td>\n",
       "      <td>Ed Sheeran</td>\n",
       "      <td>pop</td>\n",
       "      <td>93</td>\n",
       "      <td>65</td>\n",
       "      <td>64</td>\n",
       "      <td>-8</td>\n",
       "      <td>8</td>\n",
       "      <td>55</td>\n",
       "      <td>198</td>\n",
       "      <td>12</td>\n",
       "      <td>19</td>\n",
       "      <td>86</td>\n",
       "    </tr>\n",
       "    <tr>\n",
       "      <th>4</th>\n",
       "      <td>5</td>\n",
       "      <td>Goodbyes (Feat. Young Thug)</td>\n",
       "      <td>Post Malone</td>\n",
       "      <td>dfw rap</td>\n",
       "      <td>150</td>\n",
       "      <td>65</td>\n",
       "      <td>58</td>\n",
       "      <td>-4</td>\n",
       "      <td>11</td>\n",
       "      <td>18</td>\n",
       "      <td>175</td>\n",
       "      <td>45</td>\n",
       "      <td>7</td>\n",
       "      <td>94</td>\n",
       "    </tr>\n",
       "  </tbody>\n",
       "</table>\n",
       "</div>"
      ],
      "text/plain": [
       "   Unnamed: 0                       Track Name    Artist Name           Genre  \\\n",
       "0           1                         Se�orita   Shawn Mendes    canadian pop   \n",
       "1           2                            China       Anuel AA  reggaeton flow   \n",
       "2           3    boyfriend (with Social House)  Ariana Grande       dance pop   \n",
       "3           4  Beautiful People (feat. Khalid)     Ed Sheeran             pop   \n",
       "4           5      Goodbyes (Feat. Young Thug)    Post Malone         dfw rap   \n",
       "\n",
       "   Beats.Per.Minute  Energy  Danceability  Loudness  Liveness  Valence  \\\n",
       "0               117      55            76        -6         8       75   \n",
       "1               105      81            79        -4         8       61   \n",
       "2               190      80            40        -4        16       70   \n",
       "3                93      65            64        -8         8       55   \n",
       "4               150      65            58        -4        11       18   \n",
       "\n",
       "   Length(per second)  Acousticness  Speechiness  Popularity  \n",
       "0                 191             4            3          79  \n",
       "1                 302             8            9          92  \n",
       "2                 186            12           46          85  \n",
       "3                 198            12           19          86  \n",
       "4                 175            45            7          94  "
      ]
     },
     "execution_count": 4,
     "metadata": {},
     "output_type": "execute_result"
    }
   ],
   "source": [
    "go.head(5)"
   ]
  },
  {
   "cell_type": "code",
   "execution_count": 19,
   "id": "09887795",
   "metadata": {},
   "outputs": [
    {
     "name": "stdout",
     "output_type": "stream",
     "text": [
      "<class 'pandas.core.frame.DataFrame'>\n",
      "RangeIndex: 50 entries, 0 to 49\n",
      "Data columns (total 14 columns):\n",
      " #   Column              Non-Null Count  Dtype \n",
      "---  ------              --------------  ----- \n",
      " 0   Unnamed: 0          50 non-null     int64 \n",
      " 1   Track Name          50 non-null     object\n",
      " 2   Artist Name         50 non-null     object\n",
      " 3   Genre               50 non-null     object\n",
      " 4   Beats.Per.Minute    50 non-null     int64 \n",
      " 5   Energy              50 non-null     int64 \n",
      " 6   Danceability        50 non-null     int64 \n",
      " 7   Loudness            50 non-null     int64 \n",
      " 8   Liveness            50 non-null     int64 \n",
      " 9   Valence             50 non-null     int64 \n",
      " 10  Length(per second)  50 non-null     int64 \n",
      " 11  Acousticness        50 non-null     int64 \n",
      " 12  Speechiness         50 non-null     int64 \n",
      " 13  Popularity          50 non-null     int64 \n",
      "dtypes: int64(11), object(3)\n",
      "memory usage: 5.6+ KB\n"
     ]
    }
   ],
   "source": [
    "go.info()"
   ]
  },
  {
   "cell_type": "code",
   "execution_count": 7,
   "id": "b0c7661d",
   "metadata": {
    "scrolled": true
   },
   "outputs": [
    {
     "data": {
      "text/html": [
       "<div>\n",
       "<style scoped>\n",
       "    .dataframe tbody tr th:only-of-type {\n",
       "        vertical-align: middle;\n",
       "    }\n",
       "\n",
       "    .dataframe tbody tr th {\n",
       "        vertical-align: top;\n",
       "    }\n",
       "\n",
       "    .dataframe thead th {\n",
       "        text-align: right;\n",
       "    }\n",
       "</style>\n",
       "<table border=\"1\" class=\"dataframe\">\n",
       "  <thead>\n",
       "    <tr style=\"text-align: right;\">\n",
       "      <th></th>\n",
       "      <th>Unnamed: 0</th>\n",
       "      <th>Track Name</th>\n",
       "      <th>Artist Name</th>\n",
       "      <th>Genre</th>\n",
       "      <th>Beats.Per.Minute</th>\n",
       "      <th>Energy</th>\n",
       "      <th>Danceability</th>\n",
       "      <th>Loudness</th>\n",
       "      <th>Liveness</th>\n",
       "      <th>Valence</th>\n",
       "      <th>Length(per second)</th>\n",
       "      <th>Acousticness</th>\n",
       "      <th>Speechiness</th>\n",
       "      <th>Popularity</th>\n",
       "    </tr>\n",
       "  </thead>\n",
       "  <tbody>\n",
       "    <tr>\n",
       "      <th>45</th>\n",
       "      <td>46</td>\n",
       "      <td>One Thing Right</td>\n",
       "      <td>Marshmello</td>\n",
       "      <td>brostep</td>\n",
       "      <td>88</td>\n",
       "      <td>62</td>\n",
       "      <td>66</td>\n",
       "      <td>-2</td>\n",
       "      <td>58</td>\n",
       "      <td>44</td>\n",
       "      <td>182</td>\n",
       "      <td>7</td>\n",
       "      <td>5</td>\n",
       "      <td>88</td>\n",
       "    </tr>\n",
       "    <tr>\n",
       "      <th>46</th>\n",
       "      <td>47</td>\n",
       "      <td>Te Robar�</td>\n",
       "      <td>Nicky Jam</td>\n",
       "      <td>latin</td>\n",
       "      <td>176</td>\n",
       "      <td>75</td>\n",
       "      <td>67</td>\n",
       "      <td>-4</td>\n",
       "      <td>8</td>\n",
       "      <td>80</td>\n",
       "      <td>202</td>\n",
       "      <td>24</td>\n",
       "      <td>6</td>\n",
       "      <td>88</td>\n",
       "    </tr>\n",
       "    <tr>\n",
       "      <th>47</th>\n",
       "      <td>48</td>\n",
       "      <td>Happier</td>\n",
       "      <td>Marshmello</td>\n",
       "      <td>brostep</td>\n",
       "      <td>100</td>\n",
       "      <td>79</td>\n",
       "      <td>69</td>\n",
       "      <td>-3</td>\n",
       "      <td>17</td>\n",
       "      <td>67</td>\n",
       "      <td>214</td>\n",
       "      <td>19</td>\n",
       "      <td>5</td>\n",
       "      <td>88</td>\n",
       "    </tr>\n",
       "    <tr>\n",
       "      <th>48</th>\n",
       "      <td>49</td>\n",
       "      <td>Call You Mine</td>\n",
       "      <td>The Chainsmokers</td>\n",
       "      <td>edm</td>\n",
       "      <td>104</td>\n",
       "      <td>70</td>\n",
       "      <td>59</td>\n",
       "      <td>-6</td>\n",
       "      <td>41</td>\n",
       "      <td>50</td>\n",
       "      <td>218</td>\n",
       "      <td>23</td>\n",
       "      <td>3</td>\n",
       "      <td>88</td>\n",
       "    </tr>\n",
       "    <tr>\n",
       "      <th>49</th>\n",
       "      <td>50</td>\n",
       "      <td>Cross Me (feat. Chance the Rapper &amp; PnB Rock)</td>\n",
       "      <td>Ed Sheeran</td>\n",
       "      <td>pop</td>\n",
       "      <td>95</td>\n",
       "      <td>79</td>\n",
       "      <td>75</td>\n",
       "      <td>-6</td>\n",
       "      <td>7</td>\n",
       "      <td>61</td>\n",
       "      <td>206</td>\n",
       "      <td>21</td>\n",
       "      <td>12</td>\n",
       "      <td>82</td>\n",
       "    </tr>\n",
       "  </tbody>\n",
       "</table>\n",
       "</div>"
      ],
      "text/plain": [
       "    Unnamed: 0                                     Track Name  \\\n",
       "45          46                                One Thing Right   \n",
       "46          47                                      Te Robar�   \n",
       "47          48                                        Happier   \n",
       "48          49                                  Call You Mine   \n",
       "49          50  Cross Me (feat. Chance the Rapper & PnB Rock)   \n",
       "\n",
       "         Artist Name    Genre  Beats.Per.Minute  Energy  Danceability  \\\n",
       "45        Marshmello  brostep                88      62            66   \n",
       "46         Nicky Jam    latin               176      75            67   \n",
       "47        Marshmello  brostep               100      79            69   \n",
       "48  The Chainsmokers      edm               104      70            59   \n",
       "49        Ed Sheeran      pop                95      79            75   \n",
       "\n",
       "    Loudness  Liveness  Valence  Length(per second)  Acousticness  \\\n",
       "45        -2        58       44                 182             7   \n",
       "46        -4         8       80                 202            24   \n",
       "47        -3        17       67                 214            19   \n",
       "48        -6        41       50                 218            23   \n",
       "49        -6         7       61                 206            21   \n",
       "\n",
       "    Speechiness  Popularity  \n",
       "45            5          88  \n",
       "46            6          88  \n",
       "47            5          88  \n",
       "48            3          88  \n",
       "49           12          82  "
      ]
     },
     "execution_count": 7,
     "metadata": {},
     "output_type": "execute_result"
    }
   ],
   "source": [
    "go.tail(5)"
   ]
  },
  {
   "cell_type": "code",
   "execution_count": 8,
   "id": "362717ec",
   "metadata": {},
   "outputs": [
    {
     "data": {
      "text/plain": [
       "Index(['Unnamed: 0', 'Track Name', 'Artist Name', 'Genre', 'Beats.Per.Minute',\n",
       "       'Energy', 'Danceability', 'Loudness', 'Liveness', 'Valence',\n",
       "       'Length(per second)', 'Acousticness', 'Speechiness', 'Popularity'],\n",
       "      dtype='object')"
      ]
     },
     "execution_count": 8,
     "metadata": {},
     "output_type": "execute_result"
    }
   ],
   "source": [
    "go.columns"
   ]
  },
  {
   "cell_type": "code",
   "execution_count": 12,
   "id": "6923bc49",
   "metadata": {},
   "outputs": [
    {
     "data": {
      "text/plain": [
       "Unnamed: 0            50\n",
       "Track Name            50\n",
       "Artist Name           50\n",
       "Genre                 50\n",
       "Beats.Per.Minute      50\n",
       "Energy                50\n",
       "Danceability          50\n",
       "Loudness              50\n",
       "Liveness              50\n",
       "Valence               50\n",
       "Length(per second)    50\n",
       "Acousticness          50\n",
       "Speechiness           50\n",
       "Popularity            50\n",
       "dtype: int64"
      ]
     },
     "execution_count": 12,
     "metadata": {},
     "output_type": "execute_result"
    }
   ],
   "source": [
    "go.count()"
   ]
  },
  {
   "cell_type": "code",
   "execution_count": 13,
   "id": "89e17c36",
   "metadata": {},
   "outputs": [
    {
     "data": {
      "text/html": [
       "<div>\n",
       "<style scoped>\n",
       "    .dataframe tbody tr th:only-of-type {\n",
       "        vertical-align: middle;\n",
       "    }\n",
       "\n",
       "    .dataframe tbody tr th {\n",
       "        vertical-align: top;\n",
       "    }\n",
       "\n",
       "    .dataframe thead th {\n",
       "        text-align: right;\n",
       "    }\n",
       "</style>\n",
       "<table border=\"1\" class=\"dataframe\">\n",
       "  <thead>\n",
       "    <tr style=\"text-align: right;\">\n",
       "      <th></th>\n",
       "      <th>Unnamed: 0</th>\n",
       "      <th>Track Name</th>\n",
       "      <th>Artist Name</th>\n",
       "      <th>Genre</th>\n",
       "      <th>Beats.Per.Minute</th>\n",
       "      <th>Energy</th>\n",
       "      <th>Danceability</th>\n",
       "      <th>Loudness</th>\n",
       "      <th>Liveness</th>\n",
       "      <th>Valence</th>\n",
       "      <th>Length(per second)</th>\n",
       "      <th>Acousticness</th>\n",
       "      <th>Speechiness</th>\n",
       "      <th>Popularity</th>\n",
       "    </tr>\n",
       "  </thead>\n",
       "  <tbody>\n",
       "    <tr>\n",
       "      <th>46</th>\n",
       "      <td>47</td>\n",
       "      <td>Te Robar�</td>\n",
       "      <td>Nicky Jam</td>\n",
       "      <td>latin</td>\n",
       "      <td>176</td>\n",
       "      <td>75</td>\n",
       "      <td>67</td>\n",
       "      <td>-4</td>\n",
       "      <td>8</td>\n",
       "      <td>80</td>\n",
       "      <td>202</td>\n",
       "      <td>24</td>\n",
       "      <td>6</td>\n",
       "      <td>88</td>\n",
       "    </tr>\n",
       "    <tr>\n",
       "      <th>34</th>\n",
       "      <td>35</td>\n",
       "      <td>Never Really Over</td>\n",
       "      <td>Katy Perry</td>\n",
       "      <td>dance pop</td>\n",
       "      <td>100</td>\n",
       "      <td>88</td>\n",
       "      <td>77</td>\n",
       "      <td>-5</td>\n",
       "      <td>32</td>\n",
       "      <td>39</td>\n",
       "      <td>224</td>\n",
       "      <td>19</td>\n",
       "      <td>6</td>\n",
       "      <td>89</td>\n",
       "    </tr>\n",
       "    <tr>\n",
       "      <th>26</th>\n",
       "      <td>27</td>\n",
       "      <td>Dance Monkey</td>\n",
       "      <td>Tones and I</td>\n",
       "      <td>australian pop</td>\n",
       "      <td>98</td>\n",
       "      <td>59</td>\n",
       "      <td>82</td>\n",
       "      <td>-6</td>\n",
       "      <td>18</td>\n",
       "      <td>54</td>\n",
       "      <td>210</td>\n",
       "      <td>69</td>\n",
       "      <td>10</td>\n",
       "      <td>83</td>\n",
       "    </tr>\n",
       "    <tr>\n",
       "      <th>10</th>\n",
       "      <td>11</td>\n",
       "      <td>Callaita</td>\n",
       "      <td>Bad Bunny</td>\n",
       "      <td>reggaeton</td>\n",
       "      <td>176</td>\n",
       "      <td>62</td>\n",
       "      <td>61</td>\n",
       "      <td>-5</td>\n",
       "      <td>24</td>\n",
       "      <td>24</td>\n",
       "      <td>251</td>\n",
       "      <td>60</td>\n",
       "      <td>31</td>\n",
       "      <td>93</td>\n",
       "    </tr>\n",
       "    <tr>\n",
       "      <th>37</th>\n",
       "      <td>38</td>\n",
       "      <td>Antisocial (with Travis Scott)</td>\n",
       "      <td>Ed Sheeran</td>\n",
       "      <td>pop</td>\n",
       "      <td>152</td>\n",
       "      <td>82</td>\n",
       "      <td>72</td>\n",
       "      <td>-5</td>\n",
       "      <td>36</td>\n",
       "      <td>91</td>\n",
       "      <td>162</td>\n",
       "      <td>13</td>\n",
       "      <td>5</td>\n",
       "      <td>87</td>\n",
       "    </tr>\n",
       "    <tr>\n",
       "      <th>21</th>\n",
       "      <td>22</td>\n",
       "      <td>Panini</td>\n",
       "      <td>Lil Nas X</td>\n",
       "      <td>country rap</td>\n",
       "      <td>154</td>\n",
       "      <td>59</td>\n",
       "      <td>70</td>\n",
       "      <td>-6</td>\n",
       "      <td>12</td>\n",
       "      <td>48</td>\n",
       "      <td>115</td>\n",
       "      <td>34</td>\n",
       "      <td>8</td>\n",
       "      <td>91</td>\n",
       "    </tr>\n",
       "    <tr>\n",
       "      <th>17</th>\n",
       "      <td>18</td>\n",
       "      <td>Sunflower - Spider-Man: Into the Spider-Verse</td>\n",
       "      <td>Post Malone</td>\n",
       "      <td>dfw rap</td>\n",
       "      <td>90</td>\n",
       "      <td>48</td>\n",
       "      <td>76</td>\n",
       "      <td>-6</td>\n",
       "      <td>7</td>\n",
       "      <td>91</td>\n",
       "      <td>158</td>\n",
       "      <td>56</td>\n",
       "      <td>5</td>\n",
       "      <td>91</td>\n",
       "    </tr>\n",
       "    <tr>\n",
       "      <th>12</th>\n",
       "      <td>13</td>\n",
       "      <td>Someone You Loved</td>\n",
       "      <td>Lewis Capaldi</td>\n",
       "      <td>pop</td>\n",
       "      <td>110</td>\n",
       "      <td>41</td>\n",
       "      <td>50</td>\n",
       "      <td>-6</td>\n",
       "      <td>11</td>\n",
       "      <td>45</td>\n",
       "      <td>182</td>\n",
       "      <td>75</td>\n",
       "      <td>3</td>\n",
       "      <td>88</td>\n",
       "    </tr>\n",
       "    <tr>\n",
       "      <th>18</th>\n",
       "      <td>19</td>\n",
       "      <td>Lalala</td>\n",
       "      <td>Y2K</td>\n",
       "      <td>canadian hip hop</td>\n",
       "      <td>130</td>\n",
       "      <td>39</td>\n",
       "      <td>84</td>\n",
       "      <td>-8</td>\n",
       "      <td>14</td>\n",
       "      <td>50</td>\n",
       "      <td>161</td>\n",
       "      <td>18</td>\n",
       "      <td>8</td>\n",
       "      <td>88</td>\n",
       "    </tr>\n",
       "    <tr>\n",
       "      <th>16</th>\n",
       "      <td>17</td>\n",
       "      <td>LA CANCI�N</td>\n",
       "      <td>J Balvin</td>\n",
       "      <td>latin</td>\n",
       "      <td>176</td>\n",
       "      <td>65</td>\n",
       "      <td>75</td>\n",
       "      <td>-6</td>\n",
       "      <td>11</td>\n",
       "      <td>43</td>\n",
       "      <td>243</td>\n",
       "      <td>15</td>\n",
       "      <td>32</td>\n",
       "      <td>90</td>\n",
       "    </tr>\n",
       "  </tbody>\n",
       "</table>\n",
       "</div>"
      ],
      "text/plain": [
       "    Unnamed: 0                                     Track Name    Artist Name  \\\n",
       "46          47                                      Te Robar�      Nicky Jam   \n",
       "34          35                              Never Really Over     Katy Perry   \n",
       "26          27                                   Dance Monkey    Tones and I   \n",
       "10          11                                       Callaita      Bad Bunny   \n",
       "37          38                 Antisocial (with Travis Scott)     Ed Sheeran   \n",
       "21          22                                         Panini      Lil Nas X   \n",
       "17          18  Sunflower - Spider-Man: Into the Spider-Verse    Post Malone   \n",
       "12          13                              Someone You Loved  Lewis Capaldi   \n",
       "18          19                                         Lalala            Y2K   \n",
       "16          17                                     LA CANCI�N       J Balvin   \n",
       "\n",
       "               Genre  Beats.Per.Minute  Energy  Danceability  Loudness  \\\n",
       "46             latin               176      75            67        -4   \n",
       "34         dance pop               100      88            77        -5   \n",
       "26    australian pop                98      59            82        -6   \n",
       "10         reggaeton               176      62            61        -5   \n",
       "37               pop               152      82            72        -5   \n",
       "21       country rap               154      59            70        -6   \n",
       "17           dfw rap                90      48            76        -6   \n",
       "12               pop               110      41            50        -6   \n",
       "18  canadian hip hop               130      39            84        -8   \n",
       "16             latin               176      65            75        -6   \n",
       "\n",
       "    Liveness  Valence  Length(per second)  Acousticness  Speechiness  \\\n",
       "46         8       80                 202            24            6   \n",
       "34        32       39                 224            19            6   \n",
       "26        18       54                 210            69           10   \n",
       "10        24       24                 251            60           31   \n",
       "37        36       91                 162            13            5   \n",
       "21        12       48                 115            34            8   \n",
       "17         7       91                 158            56            5   \n",
       "12        11       45                 182            75            3   \n",
       "18        14       50                 161            18            8   \n",
       "16        11       43                 243            15           32   \n",
       "\n",
       "    Popularity  \n",
       "46          88  \n",
       "34          89  \n",
       "26          83  \n",
       "10          93  \n",
       "37          87  \n",
       "21          91  \n",
       "17          91  \n",
       "12          88  \n",
       "18          88  \n",
       "16          90  "
      ]
     },
     "execution_count": 13,
     "metadata": {},
     "output_type": "execute_result"
    }
   ],
   "source": [
    "go.sample(10)"
   ]
  },
  {
   "cell_type": "code",
   "execution_count": 14,
   "id": "2566737d",
   "metadata": {},
   "outputs": [
    {
     "data": {
      "text/html": [
       "<div>\n",
       "<style scoped>\n",
       "    .dataframe tbody tr th:only-of-type {\n",
       "        vertical-align: middle;\n",
       "    }\n",
       "\n",
       "    .dataframe tbody tr th {\n",
       "        vertical-align: top;\n",
       "    }\n",
       "\n",
       "    .dataframe thead th {\n",
       "        text-align: right;\n",
       "    }\n",
       "</style>\n",
       "<table border=\"1\" class=\"dataframe\">\n",
       "  <thead>\n",
       "    <tr style=\"text-align: right;\">\n",
       "      <th></th>\n",
       "      <th>Unnamed: 0</th>\n",
       "      <th>Beats.Per.Minute</th>\n",
       "      <th>Energy</th>\n",
       "      <th>Danceability</th>\n",
       "      <th>Loudness</th>\n",
       "      <th>Liveness</th>\n",
       "      <th>Valence</th>\n",
       "      <th>Length(per second)</th>\n",
       "      <th>Acousticness</th>\n",
       "      <th>Speechiness</th>\n",
       "      <th>Popularity</th>\n",
       "    </tr>\n",
       "  </thead>\n",
       "  <tbody>\n",
       "    <tr>\n",
       "      <th>count</th>\n",
       "      <td>50.00000</td>\n",
       "      <td>50.000000</td>\n",
       "      <td>50.000000</td>\n",
       "      <td>50.00000</td>\n",
       "      <td>50.000000</td>\n",
       "      <td>50.000000</td>\n",
       "      <td>50.000000</td>\n",
       "      <td>50.000000</td>\n",
       "      <td>50.000000</td>\n",
       "      <td>50.000000</td>\n",
       "      <td>50.000000</td>\n",
       "    </tr>\n",
       "    <tr>\n",
       "      <th>mean</th>\n",
       "      <td>25.50000</td>\n",
       "      <td>120.060000</td>\n",
       "      <td>64.060000</td>\n",
       "      <td>71.38000</td>\n",
       "      <td>-5.660000</td>\n",
       "      <td>14.660000</td>\n",
       "      <td>54.600000</td>\n",
       "      <td>200.960000</td>\n",
       "      <td>22.160000</td>\n",
       "      <td>12.480000</td>\n",
       "      <td>87.500000</td>\n",
       "    </tr>\n",
       "    <tr>\n",
       "      <th>std</th>\n",
       "      <td>14.57738</td>\n",
       "      <td>30.898392</td>\n",
       "      <td>14.231913</td>\n",
       "      <td>11.92988</td>\n",
       "      <td>2.056448</td>\n",
       "      <td>11.118306</td>\n",
       "      <td>22.336024</td>\n",
       "      <td>39.143879</td>\n",
       "      <td>18.995553</td>\n",
       "      <td>11.161596</td>\n",
       "      <td>4.491489</td>\n",
       "    </tr>\n",
       "    <tr>\n",
       "      <th>min</th>\n",
       "      <td>1.00000</td>\n",
       "      <td>85.000000</td>\n",
       "      <td>32.000000</td>\n",
       "      <td>29.00000</td>\n",
       "      <td>-11.000000</td>\n",
       "      <td>5.000000</td>\n",
       "      <td>10.000000</td>\n",
       "      <td>115.000000</td>\n",
       "      <td>1.000000</td>\n",
       "      <td>3.000000</td>\n",
       "      <td>70.000000</td>\n",
       "    </tr>\n",
       "    <tr>\n",
       "      <th>25%</th>\n",
       "      <td>13.25000</td>\n",
       "      <td>96.000000</td>\n",
       "      <td>55.250000</td>\n",
       "      <td>67.00000</td>\n",
       "      <td>-6.750000</td>\n",
       "      <td>8.000000</td>\n",
       "      <td>38.250000</td>\n",
       "      <td>176.750000</td>\n",
       "      <td>8.250000</td>\n",
       "      <td>5.000000</td>\n",
       "      <td>86.000000</td>\n",
       "    </tr>\n",
       "    <tr>\n",
       "      <th>50%</th>\n",
       "      <td>25.50000</td>\n",
       "      <td>104.500000</td>\n",
       "      <td>66.500000</td>\n",
       "      <td>73.50000</td>\n",
       "      <td>-6.000000</td>\n",
       "      <td>11.000000</td>\n",
       "      <td>55.500000</td>\n",
       "      <td>198.000000</td>\n",
       "      <td>15.000000</td>\n",
       "      <td>7.000000</td>\n",
       "      <td>88.000000</td>\n",
       "    </tr>\n",
       "    <tr>\n",
       "      <th>75%</th>\n",
       "      <td>37.75000</td>\n",
       "      <td>137.500000</td>\n",
       "      <td>74.750000</td>\n",
       "      <td>79.75000</td>\n",
       "      <td>-4.000000</td>\n",
       "      <td>15.750000</td>\n",
       "      <td>69.500000</td>\n",
       "      <td>217.500000</td>\n",
       "      <td>33.750000</td>\n",
       "      <td>15.000000</td>\n",
       "      <td>90.750000</td>\n",
       "    </tr>\n",
       "    <tr>\n",
       "      <th>max</th>\n",
       "      <td>50.00000</td>\n",
       "      <td>190.000000</td>\n",
       "      <td>88.000000</td>\n",
       "      <td>90.00000</td>\n",
       "      <td>-2.000000</td>\n",
       "      <td>58.000000</td>\n",
       "      <td>95.000000</td>\n",
       "      <td>309.000000</td>\n",
       "      <td>75.000000</td>\n",
       "      <td>46.000000</td>\n",
       "      <td>95.000000</td>\n",
       "    </tr>\n",
       "  </tbody>\n",
       "</table>\n",
       "</div>"
      ],
      "text/plain": [
       "       Unnamed: 0  Beats.Per.Minute     Energy  Danceability   Loudness  \\\n",
       "count    50.00000         50.000000  50.000000      50.00000  50.000000   \n",
       "mean     25.50000        120.060000  64.060000      71.38000  -5.660000   \n",
       "std      14.57738         30.898392  14.231913      11.92988   2.056448   \n",
       "min       1.00000         85.000000  32.000000      29.00000 -11.000000   \n",
       "25%      13.25000         96.000000  55.250000      67.00000  -6.750000   \n",
       "50%      25.50000        104.500000  66.500000      73.50000  -6.000000   \n",
       "75%      37.75000        137.500000  74.750000      79.75000  -4.000000   \n",
       "max      50.00000        190.000000  88.000000      90.00000  -2.000000   \n",
       "\n",
       "        Liveness    Valence  Length(per second)  Acousticness  Speechiness  \\\n",
       "count  50.000000  50.000000           50.000000     50.000000    50.000000   \n",
       "mean   14.660000  54.600000          200.960000     22.160000    12.480000   \n",
       "std    11.118306  22.336024           39.143879     18.995553    11.161596   \n",
       "min     5.000000  10.000000          115.000000      1.000000     3.000000   \n",
       "25%     8.000000  38.250000          176.750000      8.250000     5.000000   \n",
       "50%    11.000000  55.500000          198.000000     15.000000     7.000000   \n",
       "75%    15.750000  69.500000          217.500000     33.750000    15.000000   \n",
       "max    58.000000  95.000000          309.000000     75.000000    46.000000   \n",
       "\n",
       "       Popularity  \n",
       "count   50.000000  \n",
       "mean    87.500000  \n",
       "std      4.491489  \n",
       "min     70.000000  \n",
       "25%     86.000000  \n",
       "50%     88.000000  \n",
       "75%     90.750000  \n",
       "max     95.000000  "
      ]
     },
     "execution_count": 14,
     "metadata": {},
     "output_type": "execute_result"
    }
   ],
   "source": [
    "go.describe()"
   ]
  },
  {
   "cell_type": "code",
   "execution_count": 15,
   "id": "5a7ba963",
   "metadata": {},
   "outputs": [
    {
     "data": {
      "text/plain": [
       "Unnamed: 0            0\n",
       "Track Name            0\n",
       "Artist Name           0\n",
       "Genre                 0\n",
       "Beats.Per.Minute      0\n",
       "Energy                0\n",
       "Danceability          0\n",
       "Loudness              0\n",
       "Liveness              0\n",
       "Valence               0\n",
       "Length(per second)    0\n",
       "Acousticness          0\n",
       "Speechiness           0\n",
       "Popularity            0\n",
       "dtype: int64"
      ]
     },
     "execution_count": 15,
     "metadata": {},
     "output_type": "execute_result"
    }
   ],
   "source": [
    "go.isnull().sum()"
   ]
  },
  {
   "cell_type": "code",
   "execution_count": 17,
   "id": "ad6326cd",
   "metadata": {},
   "outputs": [
    {
     "name": "stdout",
     "output_type": "stream",
     "text": [
      "Unnamed: 0             int64\n",
      "Track Name            object\n",
      "Artist Name           object\n",
      "Genre                 object\n",
      "Beats.Per.Minute       int64\n",
      "Energy                 int64\n",
      "Danceability           int64\n",
      "Loudness               int64\n",
      "Liveness               int64\n",
      "Valence                int64\n",
      "Length(per second)     int64\n",
      "Acousticness           int64\n",
      "Speechiness            int64\n",
      "Popularity             int64\n",
      "dtype: object\n"
     ]
    }
   ],
   "source": [
    "print(go.dtypes)"
   ]
  },
  {
   "cell_type": "markdown",
   "id": "72a55a5e",
   "metadata": {},
   "source": [
    "#  Analysing the relationship between energy and loudness"
   ]
  },
  {
   "cell_type": "markdown",
   "id": "3ec3ae04",
   "metadata": {},
   "source": [
    "## Calculating the number of songs by each of the artists"
   ]
  },
  {
   "cell_type": "code",
   "execution_count": 31,
   "id": "fd4d5f60",
   "metadata": {},
   "outputs": [
    {
     "name": "stdout",
     "output_type": "stream",
     "text": [
      "Artist Name\n",
      "Ali Gatie           1\n",
      "Anuel AA            1\n",
      "Ariana Grande       2\n",
      "Bad Bunny           1\n",
      "Billie Eilish       2\n",
      "Chris Brown         1\n",
      "DJ Snake            1\n",
      "Daddy Yankee        1\n",
      "Drake               1\n",
      "Ed Sheeran          4\n",
      "J Balvin            2\n",
      "Jhay Cortez         1\n",
      "Jonas Brothers      1\n",
      "Katy Perry          1\n",
      "Khalid              1\n",
      "Kygo                1\n",
      "Lady Gaga           1\n",
      "Lauv                1\n",
      "Lewis Capaldi       1\n",
      "Lil Nas X           2\n",
      "Lil Tecca           1\n",
      "Lizzo               1\n",
      "Lunay               1\n",
      "MEDUZA              1\n",
      "Maluma              1\n",
      "Marshmello          2\n",
      "Martin Garrix       1\n",
      "Nicky Jam           1\n",
      "Post Malone         2\n",
      "ROSAL�A             1\n",
      "Sam Smith           1\n",
      "Sech                2\n",
      "Shawn Mendes        2\n",
      "Taylor Swift        1\n",
      "The Chainsmokers    2\n",
      "Tones and I         1\n",
      "Y2K                 1\n",
      "Young Thug          1\n",
      "dtype: int64\n",
      "Artist Name\n",
      "Ali Gatie           1\n",
      "Anuel AA            1\n",
      "Ariana Grande       2\n",
      "Bad Bunny           1\n",
      "Billie Eilish       2\n",
      "Chris Brown         1\n",
      "DJ Snake            1\n",
      "Daddy Yankee        1\n",
      "Drake               1\n",
      "Ed Sheeran          4\n",
      "J Balvin            2\n",
      "Jhay Cortez         1\n",
      "Jonas Brothers      1\n",
      "Katy Perry          1\n",
      "Khalid              1\n",
      "Kygo                1\n",
      "Lady Gaga           1\n",
      "Lauv                1\n",
      "Lewis Capaldi       1\n",
      "Lil Nas X           2\n",
      "Lil Tecca           1\n",
      "Lizzo               1\n",
      "Lunay               1\n",
      "MEDUZA              1\n",
      "Maluma              1\n",
      "Marshmello          2\n",
      "Martin Garrix       1\n",
      "Nicky Jam           1\n",
      "Post Malone         2\n",
      "ROSAL�A             1\n",
      "Sam Smith           1\n",
      "Sech                2\n",
      "Shawn Mendes        2\n",
      "Taylor Swift        1\n",
      "The Chainsmokers    2\n",
      "Tones and I         1\n",
      "Y2K                 1\n",
      "Young Thug          1\n",
      "dtype: int64\n"
     ]
    }
   ],
   "source": [
    "print(go.groupby('Artist Name').size())\n",
    "popular_artist = go.groupby('Artist Name').size()\n",
    "print(popular_artist)\n",
    "artist_list = go['Artist Name'].values.tolist()"
   ]
  },
  {
   "cell_type": "code",
   "execution_count": 4,
   "id": "2df15983",
   "metadata": {},
   "outputs": [
    {
     "data": {
      "text/html": [
       "<div>\n",
       "<style scoped>\n",
       "    .dataframe tbody tr th:only-of-type {\n",
       "        vertical-align: middle;\n",
       "    }\n",
       "\n",
       "    .dataframe tbody tr th {\n",
       "        vertical-align: top;\n",
       "    }\n",
       "\n",
       "    .dataframe thead th {\n",
       "        text-align: right;\n",
       "    }\n",
       "</style>\n",
       "<table border=\"1\" class=\"dataframe\">\n",
       "  <thead>\n",
       "    <tr style=\"text-align: right;\">\n",
       "      <th></th>\n",
       "      <th>Unnamed: 0</th>\n",
       "      <th>Beats.Per.Minute</th>\n",
       "      <th>Energy</th>\n",
       "      <th>Danceability</th>\n",
       "      <th>Loudness</th>\n",
       "      <th>Liveness</th>\n",
       "      <th>Valence</th>\n",
       "      <th>Length(per second)</th>\n",
       "      <th>Acousticness</th>\n",
       "      <th>Speechiness</th>\n",
       "      <th>Popularity</th>\n",
       "    </tr>\n",
       "  </thead>\n",
       "  <tbody>\n",
       "    <tr>\n",
       "      <th>count</th>\n",
       "      <td>50.00000</td>\n",
       "      <td>50.000000</td>\n",
       "      <td>50.000000</td>\n",
       "      <td>50.00000</td>\n",
       "      <td>50.000000</td>\n",
       "      <td>50.000000</td>\n",
       "      <td>50.000000</td>\n",
       "      <td>50.000000</td>\n",
       "      <td>50.000000</td>\n",
       "      <td>50.000000</td>\n",
       "      <td>50.000000</td>\n",
       "    </tr>\n",
       "    <tr>\n",
       "      <th>mean</th>\n",
       "      <td>25.50000</td>\n",
       "      <td>120.060000</td>\n",
       "      <td>64.060000</td>\n",
       "      <td>71.38000</td>\n",
       "      <td>-5.660000</td>\n",
       "      <td>14.660000</td>\n",
       "      <td>54.600000</td>\n",
       "      <td>200.960000</td>\n",
       "      <td>22.160000</td>\n",
       "      <td>12.480000</td>\n",
       "      <td>87.500000</td>\n",
       "    </tr>\n",
       "    <tr>\n",
       "      <th>std</th>\n",
       "      <td>14.57738</td>\n",
       "      <td>30.898392</td>\n",
       "      <td>14.231913</td>\n",
       "      <td>11.92988</td>\n",
       "      <td>2.056448</td>\n",
       "      <td>11.118306</td>\n",
       "      <td>22.336024</td>\n",
       "      <td>39.143879</td>\n",
       "      <td>18.995553</td>\n",
       "      <td>11.161596</td>\n",
       "      <td>4.491489</td>\n",
       "    </tr>\n",
       "    <tr>\n",
       "      <th>min</th>\n",
       "      <td>1.00000</td>\n",
       "      <td>85.000000</td>\n",
       "      <td>32.000000</td>\n",
       "      <td>29.00000</td>\n",
       "      <td>-11.000000</td>\n",
       "      <td>5.000000</td>\n",
       "      <td>10.000000</td>\n",
       "      <td>115.000000</td>\n",
       "      <td>1.000000</td>\n",
       "      <td>3.000000</td>\n",
       "      <td>70.000000</td>\n",
       "    </tr>\n",
       "    <tr>\n",
       "      <th>25%</th>\n",
       "      <td>13.25000</td>\n",
       "      <td>96.000000</td>\n",
       "      <td>55.250000</td>\n",
       "      <td>67.00000</td>\n",
       "      <td>-6.750000</td>\n",
       "      <td>8.000000</td>\n",
       "      <td>38.250000</td>\n",
       "      <td>176.750000</td>\n",
       "      <td>8.250000</td>\n",
       "      <td>5.000000</td>\n",
       "      <td>86.000000</td>\n",
       "    </tr>\n",
       "    <tr>\n",
       "      <th>50%</th>\n",
       "      <td>25.50000</td>\n",
       "      <td>104.500000</td>\n",
       "      <td>66.500000</td>\n",
       "      <td>73.50000</td>\n",
       "      <td>-6.000000</td>\n",
       "      <td>11.000000</td>\n",
       "      <td>55.500000</td>\n",
       "      <td>198.000000</td>\n",
       "      <td>15.000000</td>\n",
       "      <td>7.000000</td>\n",
       "      <td>88.000000</td>\n",
       "    </tr>\n",
       "    <tr>\n",
       "      <th>75%</th>\n",
       "      <td>37.75000</td>\n",
       "      <td>137.500000</td>\n",
       "      <td>74.750000</td>\n",
       "      <td>79.75000</td>\n",
       "      <td>-4.000000</td>\n",
       "      <td>15.750000</td>\n",
       "      <td>69.500000</td>\n",
       "      <td>217.500000</td>\n",
       "      <td>33.750000</td>\n",
       "      <td>15.000000</td>\n",
       "      <td>90.750000</td>\n",
       "    </tr>\n",
       "    <tr>\n",
       "      <th>max</th>\n",
       "      <td>50.00000</td>\n",
       "      <td>190.000000</td>\n",
       "      <td>88.000000</td>\n",
       "      <td>90.00000</td>\n",
       "      <td>-2.000000</td>\n",
       "      <td>58.000000</td>\n",
       "      <td>95.000000</td>\n",
       "      <td>309.000000</td>\n",
       "      <td>75.000000</td>\n",
       "      <td>46.000000</td>\n",
       "      <td>95.000000</td>\n",
       "    </tr>\n",
       "  </tbody>\n",
       "</table>\n",
       "</div>"
      ],
      "text/plain": [
       "       Unnamed: 0  Beats.Per.Minute     Energy  Danceability   Loudness  \\\n",
       "count    50.00000         50.000000  50.000000      50.00000  50.000000   \n",
       "mean     25.50000        120.060000  64.060000      71.38000  -5.660000   \n",
       "std      14.57738         30.898392  14.231913      11.92988   2.056448   \n",
       "min       1.00000         85.000000  32.000000      29.00000 -11.000000   \n",
       "25%      13.25000         96.000000  55.250000      67.00000  -6.750000   \n",
       "50%      25.50000        104.500000  66.500000      73.50000  -6.000000   \n",
       "75%      37.75000        137.500000  74.750000      79.75000  -4.000000   \n",
       "max      50.00000        190.000000  88.000000      90.00000  -2.000000   \n",
       "\n",
       "        Liveness    Valence  Length(per second)  Acousticness  Speechiness  \\\n",
       "count  50.000000  50.000000           50.000000     50.000000    50.000000   \n",
       "mean   14.660000  54.600000          200.960000     22.160000    12.480000   \n",
       "std    11.118306  22.336024           39.143879     18.995553    11.161596   \n",
       "min     5.000000  10.000000          115.000000      1.000000     3.000000   \n",
       "25%     8.000000  38.250000          176.750000      8.250000     5.000000   \n",
       "50%    11.000000  55.500000          198.000000     15.000000     7.000000   \n",
       "75%    15.750000  69.500000          217.500000     33.750000    15.000000   \n",
       "max    58.000000  95.000000          309.000000     75.000000    46.000000   \n",
       "\n",
       "       Popularity  \n",
       "count   50.000000  \n",
       "mean    87.500000  \n",
       "std      4.491489  \n",
       "min     70.000000  \n",
       "25%     86.000000  \n",
       "50%     88.000000  \n",
       "75%     90.750000  \n",
       "max     95.000000  "
      ]
     },
     "execution_count": 4,
     "metadata": {},
     "output_type": "execute_result"
    }
   ],
   "source": [
    "go.describe()"
   ]
  },
  {
   "cell_type": "markdown",
   "id": "70181936",
   "metadata": {},
   "source": [
    "# Correlation"
   ]
  },
  {
   "cell_type": "code",
   "execution_count": 38,
   "id": "a657e3f7",
   "metadata": {},
   "outputs": [
    {
     "name": "stdout",
     "output_type": "stream",
     "text": [
      "                    Unnamed: 0  Beats.Per.Minute  Energy  Danceability  Loudness  Liveness  \\\n",
      "Unnamed: 0               1.000            -0.263   0.132         0.053    -0.014     0.102   \n",
      "Beats.Per.Minute        -0.263             1.000   0.012        -0.092     0.014    -0.033   \n",
      "Energy                   0.132             0.012   1.000        -0.049     0.635     0.013   \n",
      "Danceability             0.053            -0.092  -0.049         1.000     0.009    -0.261   \n",
      "Loudness                -0.014             0.014   0.635         0.009     1.000     0.114   \n",
      "Liveness                 0.102            -0.033   0.013        -0.261     0.114     1.000   \n",
      "Valence                  0.113            -0.048   0.467         0.155     0.317    -0.187   \n",
      "Length(per second)       0.045            -0.198   0.189        -0.079     0.165     0.202   \n",
      "Acousticness             0.058            -0.010  -0.211        -0.128    -0.040     0.204   \n",
      "Speechiness             -0.232             0.392  -0.035         0.104    -0.063    -0.137   \n",
      "Popularity              -0.221             0.217  -0.044        -0.141     0.072     0.012   \n",
      "\n",
      "                    Valence  Length(per second)  Acousticness  Speechiness  Popularity  \n",
      "Unnamed: 0            0.113               0.045         0.058       -0.232      -0.221  \n",
      "Beats.Per.Minute     -0.048              -0.198        -0.010        0.392       0.217  \n",
      "Energy                0.467               0.189        -0.211       -0.035      -0.044  \n",
      "Danceability          0.155              -0.079        -0.128        0.104      -0.141  \n",
      "Loudness              0.317               0.165        -0.040       -0.063       0.072  \n",
      "Liveness             -0.187               0.202         0.204       -0.137       0.012  \n",
      "Valence               1.000              -0.081        -0.053       -0.095      -0.265  \n",
      "Length(per second)   -0.081               1.000        -0.005        0.020      -0.122  \n",
      "Acousticness         -0.053              -0.005         1.000        0.017       0.036  \n",
      "Speechiness          -0.095               0.020         0.017        1.000       0.165  \n",
      "Popularity           -0.265              -0.122         0.036        0.165       1.000  \n"
     ]
    }
   ],
   "source": [
    "pd.set_option('display.width', 100)\n",
    "pd.set_option('precision',3)\n",
    "corr = go.corr(method='spearman')\n",
    "print(corr)"
   ]
  },
  {
   "cell_type": "code",
   "execution_count": 25,
   "id": "3f7ff33b",
   "metadata": {},
   "outputs": [
    {
     "data": {
      "text/plain": [
       "<AxesSubplot:>"
      ]
     },
     "execution_count": 25,
     "metadata": {},
     "output_type": "execute_result"
    },
    {
     "data": {
      "image/png": "[encoded data removed]",
      "text/plain": [
       "<Figure size 864x576 with 2 Axes>"
      ]
     },
     "metadata": {},
     "output_type": "display_data"
    }
   ],
   "source": [
    "corr = go[['Genre','Energy','Danceability','Loudness','Liveness','Popularity']].corr()"
   ]
  },
  {
   "cell_type": "markdown",
   "id": "fe793faa",
   "metadata": {},
   "source": [
    "# Boxplot for Popularity by Genre"
   ]
  },
  {
   "cell_type": "code",
   "execution_count": 10,
   "id": "550aa113",
   "metadata": {},
   "outputs": [
    {
     "data": {
      "image/png": "[encoded data removed]",
      "text/plain": [
       "<Figure size 432x288 with 1 Axes>"
      ]
     },
     "metadata": {
      "needs_background": "light"
     },
     "output_type": "display_data"
    }
   ],
   "source": [
    "ac=sns.boxplot(y='Popularity',x='Genre',data=go)\n",
    "plt.xticks(rotation='vertical')\n",
    "plt.show()"
   ]
  },
  {
   "cell_type": "markdown",
   "id": "9685e0df",
   "metadata": {},
   "source": [
    "* Boxplot for Popularity by Genre\n"
   ]
  },
  {
   "cell_type": "markdown",
   "id": "6045d554",
   "metadata": {},
   "source": [
    "# Most hear the song "
   ]
  },
  {
   "cell_type": "code",
   "execution_count": 23,
   "id": "64284eb5",
   "metadata": {},
   "outputs": [
    {
     "data": {
      "text/plain": [
       "[Text(0.5, 1.0, 'Number of Songs per Artist'),\n",
       " Text(0.5, 0, 'Number of Songs'),\n",
       " Text(0, 0.5, 'Artist')]"
      ]
     },
     "execution_count": 23,
     "metadata": {},
     "output_type": "execute_result"
    },
    {
     "data": {
      "image/png": "[encoded data removed]",
      "text/plain": [
       "<Figure size 360x720 with 1 Axes>"
      ]
     },
     "metadata": {
      "needs_background": "light"
     },
     "output_type": "display_data"
    }
   ],
   "source": [
    "plt.figure(figsize=(5,10))\n",
    "sns.countplot(y='Artist Name',data=go,order=go['Artist Name'].value_counts().head(10).index).set(title='Number of Songs per Artist',xlabel='Number of Songs',ylabel='Artist')"
   ]
  },
  {
   "cell_type": "markdown",
   "id": "079c7b0a",
   "metadata": {},
   "source": [
    "* Among the top 50 songs, 4 of them belongs to Ed Sheeran. \n",
    "* 2 more than the next runner-ups.\n",
    "* So the most listened artist is Ed Sheeran."
   ]
  },
  {
   "cell_type": "code",
   "execution_count": 24,
   "id": "37f82096",
   "metadata": {},
   "outputs": [
    {
     "data": {
      "text/plain": [
       "[Text(0.5, 1.0, 'Number of Songs per Genre'),\n",
       " Text(0.5, 0, 'Number of Songs'),\n",
       " Text(0, 0.5, 'Genre')]"
      ]
     },
     "execution_count": 24,
     "metadata": {},
     "output_type": "execute_result"
    },
    {
     "data": {
      "image/png": "[encoded data removed]",
      "text/plain": [
       "<Figure size 720x864 with 1 Axes>"
      ]
     },
     "metadata": {
      "needs_background": "light"
     },
     "output_type": "display_data"
    }
   ],
   "source": [
    "plt.figure(figsize=(10,12))\n",
    "sns.countplot(y='Genre',data=go,order=go['Genre'].value_counts().index).set(title='Number of Songs per Genre',xlabel='Number of Songs',ylabel='Genre')"
   ]
  },
  {
   "cell_type": "markdown",
   "id": "847a677c",
   "metadata": {},
   "source": [
    "* As it turns out, Dance pop is more pop than pop and it is also the most listened genre."
   ]
  },
  {
   "cell_type": "markdown",
   "id": "30185bf9",
   "metadata": {},
   "source": [
    "# Artist vs Genre"
   ]
  },
  {
   "cell_type": "code",
   "execution_count": 43,
   "id": "970bae64",
   "metadata": {},
   "outputs": [
    {
     "data": {
      "image/png": "[encoded data removed]",
      "text/plain": [
       "<Figure size 864x576 with 2 Axes>"
      ]
     },
     "metadata": {
      "needs_background": "light"
     },
     "output_type": "display_data"
    }
   ],
   "source": [
    "go1 = go.groupby([\"Artist Name\", \"Genre\"])[\"Track Name\"].aggregate(\"count\").reset_index()\n",
    "go1 = go1.pivot('Artist Name', 'Genre', 'Track Name')\n",
    "\n",
    "plt.figure(figsize=(12,8))\n",
    "sns.heatmap(go1)\n",
    "plt.title(\"Frequency of Artist.Name Vs Genre\")\n",
    "plt.show()"
   ]
  },
  {
   "cell_type": "markdown",
   "id": "b1453b2e",
   "metadata": {},
   "source": [
    "# Best Dance Songs"
   ]
  },
  {
   "cell_type": "code",
   "execution_count": 46,
   "id": "48315c88",
   "metadata": {},
   "outputs": [
    {
     "data": {
      "text/html": [
       "<div>\n",
       "<style scoped>\n",
       "    .dataframe tbody tr th:only-of-type {\n",
       "        vertical-align: middle;\n",
       "    }\n",
       "\n",
       "    .dataframe tbody tr th {\n",
       "        vertical-align: top;\n",
       "    }\n",
       "\n",
       "    .dataframe thead th {\n",
       "        text-align: right;\n",
       "    }\n",
       "</style>\n",
       "<table border=\"1\" class=\"dataframe\">\n",
       "  <thead>\n",
       "    <tr style=\"text-align: right;\">\n",
       "      <th></th>\n",
       "      <th>Track Name</th>\n",
       "      <th>Artist Name</th>\n",
       "      <th>Genre</th>\n",
       "      <th>Danceability</th>\n",
       "    </tr>\n",
       "  </thead>\n",
       "  <tbody>\n",
       "    <tr>\n",
       "      <th>43</th>\n",
       "      <td>Talk</td>\n",
       "      <td>Khalid</td>\n",
       "      <td>pop</td>\n",
       "      <td>90</td>\n",
       "    </tr>\n",
       "    <tr>\n",
       "      <th>44</th>\n",
       "      <td>Con Altura</td>\n",
       "      <td>ROSAL�A</td>\n",
       "      <td>r&amp;b en espanol</td>\n",
       "      <td>88</td>\n",
       "    </tr>\n",
       "    <tr>\n",
       "      <th>8</th>\n",
       "      <td>Old Town Road - Remix</td>\n",
       "      <td>Lil Nas X</td>\n",
       "      <td>country rap</td>\n",
       "      <td>88</td>\n",
       "    </tr>\n",
       "    <tr>\n",
       "      <th>38</th>\n",
       "      <td>Sucker</td>\n",
       "      <td>Jonas Brothers</td>\n",
       "      <td>boy band</td>\n",
       "      <td>84</td>\n",
       "    </tr>\n",
       "    <tr>\n",
       "      <th>18</th>\n",
       "      <td>Lalala</td>\n",
       "      <td>Y2K</td>\n",
       "      <td>canadian hip hop</td>\n",
       "      <td>84</td>\n",
       "    </tr>\n",
       "    <tr>\n",
       "      <th>14</th>\n",
       "      <td>Money In The Grave (Drake ft. Rick Ross)</td>\n",
       "      <td>Drake</td>\n",
       "      <td>canadian hip hop</td>\n",
       "      <td>83</td>\n",
       "    </tr>\n",
       "    <tr>\n",
       "      <th>26</th>\n",
       "      <td>Dance Monkey</td>\n",
       "      <td>Tones and I</td>\n",
       "      <td>australian pop</td>\n",
       "      <td>82</td>\n",
       "    </tr>\n",
       "    <tr>\n",
       "      <th>11</th>\n",
       "      <td>Loco Contigo (feat. J. Balvin &amp; Tyga)</td>\n",
       "      <td>DJ Snake</td>\n",
       "      <td>dance pop</td>\n",
       "      <td>82</td>\n",
       "    </tr>\n",
       "    <tr>\n",
       "      <th>39</th>\n",
       "      <td>fuck, i'm lonely (with Anne-Marie) - from �13 ...</td>\n",
       "      <td>Lauv</td>\n",
       "      <td>dance pop</td>\n",
       "      <td>81</td>\n",
       "    </tr>\n",
       "    <tr>\n",
       "      <th>22</th>\n",
       "      <td>No Me Conoce - Remix</td>\n",
       "      <td>Jhay Cortez</td>\n",
       "      <td>reggaeton flow</td>\n",
       "      <td>81</td>\n",
       "    </tr>\n",
       "  </tbody>\n",
       "</table>\n",
       "</div>"
      ],
      "text/plain": [
       "                                           Track Name     Artist Name             Genre  \\\n",
       "43                                               Talk          Khalid               pop   \n",
       "44                                         Con Altura         ROSAL�A    r&b en espanol   \n",
       "8                               Old Town Road - Remix       Lil Nas X       country rap   \n",
       "38                                             Sucker  Jonas Brothers          boy band   \n",
       "18                                             Lalala             Y2K  canadian hip hop   \n",
       "14           Money In The Grave (Drake ft. Rick Ross)           Drake  canadian hip hop   \n",
       "26                                       Dance Monkey     Tones and I    australian pop   \n",
       "11              Loco Contigo (feat. J. Balvin & Tyga)        DJ Snake         dance pop   \n",
       "39  fuck, i'm lonely (with Anne-Marie) - from �13 ...            Lauv         dance pop   \n",
       "22                               No Me Conoce - Remix     Jhay Cortez    reggaeton flow   \n",
       "\n",
       "    Danceability  \n",
       "43            90  \n",
       "44            88  \n",
       "8             88  \n",
       "38            84  \n",
       "18            84  \n",
       "14            83  \n",
       "26            82  \n",
       "11            82  \n",
       "39            81  \n",
       "22            81  "
      ]
     },
     "execution_count": 46,
     "metadata": {},
     "output_type": "execute_result"
    }
   ],
   "source": [
    "go[['Track Name','Artist Name','Genre','Danceability']].sort_values(by='Danceability',ascending=False).head(10)\n"
   ]
  },
  {
   "cell_type": "markdown",
   "id": "5ec1cad9",
   "metadata": {},
   "source": [
    "* here the songs are most danceability"
   ]
  },
  {
   "cell_type": "markdown",
   "id": "85355cb0",
   "metadata": {},
   "source": [
    "# Beats per Minute Distribution"
   ]
  },
  {
   "cell_type": "code",
   "execution_count": 5,
   "id": "b89f98f8",
   "metadata": {},
   "outputs": [
    {
     "data": {
      "text/plain": [
       "[Text(0.5, 1.0, 'Beats per Minute Distribution'),\n",
       " Text(0.5, 0, 'Beats per Minute'),\n",
       " Text(0, 0.5, 'Number of Songs (Normalized)')]"
      ]
     },
     "execution_count": 5,
     "metadata": {},
     "output_type": "execute_result"
    },
    {
     "data": {
      "image/png": "[encoded data removed]",
      "text/plain": [
       "<Figure size 720x1080 with 1 Axes>"
      ]
     },
     "metadata": {
      "needs_background": "light"
     },
     "output_type": "display_data"
    }
   ],
   "source": [
    "plt.figure(figsize=(10,15))\n",
    "sns.countplot(y=go['Beats.Per.Minute'],order=go['Beats.Per.Minute'].value_counts().index).set(title='Beats per Minute Distribution',xlabel='Beats per Minute',ylabel='Number of Songs (Normalized)')"
   ]
  },
  {
   "cell_type": "markdown",
   "id": "f95c8c3f",
   "metadata": {},
   "source": [
    "* Interestingly, when counts are plotted using bar plot, it can be seen that 176 is something special, \n",
    "having the most songs among other BPMs with 5 songs."
   ]
  },
  {
   "cell_type": "markdown",
   "id": "82231df5",
   "metadata": {},
   "source": [
    "# Energy Distribution"
   ]
  },
  {
   "cell_type": "code",
   "execution_count": 15,
   "id": "8fa2865f",
   "metadata": {},
   "outputs": [
    {
     "name": "stderr",
     "output_type": "stream",
     "text": [
      "/home/rkmveri/.local/lib/python3.8/site-packages/seaborn/distributions.py:2619: FutureWarning: `distplot` is a deprecated function and will be removed in a future version. Please adapt your code to use either `displot` (a figure-level function with similar flexibility) or `histplot` (an axes-level function for histograms).\n",
      "  warnings.warn(msg, FutureWarning)\n"
     ]
    },
    {
     "data": {
      "text/plain": [
       "[Text(0.5, 1.0, 'Energy Distribution'),\n",
       " Text(0.5, 0, 'Energy'),\n",
       " Text(0, 0.5, 'Number of Songs (Normalized)')]"
      ]
     },
     "execution_count": 15,
     "metadata": {},
     "output_type": "execute_result"
    },
    {
     "data": {
      "image/png": "[encoded data removed]",
      "text/plain": [
       "<Figure size 1080x360 with 1 Axes>"
      ]
     },
     "metadata": {
      "needs_background": "light"
     },
     "output_type": "display_data"
    }
   ],
   "source": [
    "plt.figure(figsize=(15,5))\n",
    "sns.distplot(go['Energy']).set(title='Energy Distribution',xlabel='Energy',ylabel='Number of Songs (Normalized)')"
   ]
  },
  {
   "cell_type": "code",
   "execution_count": 36,
   "id": "da2e40cd",
   "metadata": {},
   "outputs": [
    {
     "name": "stdout",
     "output_type": "stream",
     "text": [
      "Energy\n",
      "Median: 66.5\n",
      "Standard Deviation: 14.231912975379506\n"
     ]
    },
    {
     "data": {
      "text/plain": [
       "count    50.000000\n",
       "mean     64.060000\n",
       "std      14.231913\n",
       "min      32.000000\n",
       "25%      55.250000\n",
       "50%      66.500000\n",
       "75%      74.750000\n",
       "max      88.000000\n",
       "Name: Energy, dtype: float64"
      ]
     },
     "execution_count": 36,
     "metadata": {},
     "output_type": "execute_result"
    }
   ],
   "source": [
    "print('Energy:')\n",
    "print(\"Median:\",go['Energy'].median())\n",
    "print(\"Standard Deviation:\",go['Energy'].std())\n",
    "go['Energy'].describe()"
   ]
  },
  {
   "cell_type": "markdown",
   "id": "464ff54d",
   "metadata": {},
   "source": [
    "* most of the values in the range of 55.25 to 74.75.  the most preferred songs are those with medium-high energy, 66.5 with standard deviation of 14.23."
   ]
  },
  {
   "cell_type": "markdown",
   "id": "8fbafef2",
   "metadata": {},
   "source": [
    "# Danceability Distribution"
   ]
  },
  {
   "cell_type": "code",
   "execution_count": 20,
   "id": "887bea91",
   "metadata": {},
   "outputs": [
    {
     "name": "stderr",
     "output_type": "stream",
     "text": [
      "/home/rkmveri/.local/lib/python3.8/site-packages/seaborn/distributions.py:2619: FutureWarning: `distplot` is a deprecated function and will be removed in a future version. Please adapt your code to use either `displot` (a figure-level function with similar flexibility) or `histplot` (an axes-level function for histograms).\n",
      "  warnings.warn(msg, FutureWarning)\n"
     ]
    },
    {
     "data": {
      "text/plain": [
       "[Text(0.5, 1.0, 'Danceability Distribution'),\n",
       " Text(0.5, 0, 'Danceability'),\n",
       " Text(0, 0.5, 'Number of Songs (Normalized)')]"
      ]
     },
     "execution_count": 20,
     "metadata": {},
     "output_type": "execute_result"
    },
    {
     "data": {
      "image/png": "[encoded data removed]",
      "text/plain": [
       "<Figure size 1080x360 with 1 Axes>"
      ]
     },
     "metadata": {
      "needs_background": "light"
     },
     "output_type": "display_data"
    }
   ],
   "source": [
    "plt.figure(figsize=(15,5))\n",
    "sns.distplot(go['Danceability']).set(title='Danceability Distribution', xlabel='Danceability',ylabel='Number of Songs (Normalized)')"
   ]
  },
  {
   "cell_type": "code",
   "execution_count": 21,
   "id": "204fcbdc",
   "metadata": {},
   "outputs": [
    {
     "name": "stdout",
     "output_type": "stream",
     "text": [
      "Danceability\n",
      "Median: 73.5\n",
      "Standard Deviation: 11.929880167727022\n"
     ]
    },
    {
     "data": {
      "text/plain": [
       "count    50.00000\n",
       "mean     71.38000\n",
       "std      11.92988\n",
       "min      29.00000\n",
       "25%      67.00000\n",
       "50%      73.50000\n",
       "75%      79.75000\n",
       "max      90.00000\n",
       "Name: Danceability, dtype: float64"
      ]
     },
     "execution_count": 21,
     "metadata": {},
     "output_type": "execute_result"
    }
   ],
   "source": [
    "temp_param = 'Danceability'\n",
    "print(temp_param)\n",
    "print(\"Median:\",go[temp_param].median())\n",
    "print(\"Standard Deviation:\",go[temp_param].std())\n",
    "go[temp_param].describe()"
   ]
  },
  {
   "cell_type": "markdown",
   "id": "ae502c82",
   "metadata": {},
   "source": [
    "* According to the graph, this parameter might be of scale 0 to 100. If so, then the listeners prefer medium-high from 67 to 79.75 danceability with median 73.5 and a sharp preference with standard deviation of 11.9298"
   ]
  },
  {
   "cell_type": "markdown",
   "id": "5552be5a",
   "metadata": {},
   "source": [
    "# Loudness Distribution"
   ]
  },
  {
   "cell_type": "code",
   "execution_count": 26,
   "id": "cdaf1c1a",
   "metadata": {},
   "outputs": [
    {
     "name": "stderr",
     "output_type": "stream",
     "text": [
      "/home/rkmveri/.local/lib/python3.8/site-packages/seaborn/distributions.py:2619: FutureWarning: `distplot` is a deprecated function and will be removed in a future version. Please adapt your code to use either `displot` (a figure-level function with similar flexibility) or `histplot` (an axes-level function for histograms).\n",
      "  warnings.warn(msg, FutureWarning)\n"
     ]
    },
    {
     "data": {
      "text/plain": [
       "[Text(0.5, 1.0, 'Loudness Distribution'),\n",
       " Text(0.5, 0, 'Loudness'),\n",
       " Text(0, 0.5, 'Number of Songs (Normalized)')]"
      ]
     },
     "execution_count": 26,
     "metadata": {},
     "output_type": "execute_result"
    },
    {
     "data": {
      "image/png": "[encoded data removed]",
      "text/plain": [
       "<Figure size 1080x360 with 1 Axes>"
      ]
     },
     "metadata": {
      "needs_background": "light"
     },
     "output_type": "display_data"
    }
   ],
   "source": [
    "plt.figure(figsize=(15,5))\n",
    "sns.distplot(go['Loudness']).set(title='Loudness Distribution',xlabel='Loudness',ylabel='Number of Songs (Normalized)')"
   ]
  },
  {
   "cell_type": "code",
   "execution_count": 28,
   "id": "caa45bff",
   "metadata": {},
   "outputs": [
    {
     "name": "stdout",
     "output_type": "stream",
     "text": [
      "Loudness\n",
      "Median: -6.0\n",
      "Standard Deviation: 2.0564482954445356\n"
     ]
    },
    {
     "data": {
      "text/plain": [
       "count    50.000000\n",
       "mean     -5.660000\n",
       "std       2.056448\n",
       "min     -11.000000\n",
       "25%      -6.750000\n",
       "50%      -6.000000\n",
       "75%      -4.000000\n",
       "max      -2.000000\n",
       "Name: Loudness, dtype: float64"
      ]
     },
     "execution_count": 28,
     "metadata": {},
     "output_type": "execute_result"
    }
   ],
   "source": [
    "temp_param = 'Loudness'\n",
    "print(temp_param)\n",
    "print(\"Median:\",go[temp_param].median())\n",
    "print(\"Standard Deviation:\",go[temp_param].std())\n",
    "go[temp_param].describe()"
   ]
  },
  {
   "cell_type": "markdown",
   "id": "bd8b9d6a",
   "metadata": {},
   "source": [
    "* The distribution of the loudness is distributed mostly at -6.75 dB to -4.00 dB centered at -6.0 dB, which, coincidentally, is at the medium-high part of the distribution as well."
   ]
  },
  {
   "cell_type": "markdown",
   "id": "23c2c8b2",
   "metadata": {},
   "source": [
    "# Analysing the relationship between energy and loudness"
   ]
  },
  {
   "cell_type": "code",
   "execution_count": 42,
   "id": "7726b3cd",
   "metadata": {},
   "outputs": [
    {
     "data": {
      "text/plain": [
       "<AxesSubplot:xlabel='Energy', ylabel='Loudness'>"
      ]
     },
     "execution_count": 42,
     "metadata": {},
     "output_type": "execute_result"
    },
    {
     "data": {
      "image/png": "[encoded data removed]",
      "text/plain": [
       "<Figure size 720x720 with 1 Axes>"
      ]
     },
     "metadata": {
      "needs_background": "light"
     },
     "output_type": "display_data"
    }
   ],
   "source": [
    "fig = plt.subplots(figsize=(10,10))\n",
    "sns.regplot(x='Energy', y='Loudness', data=go, color='black')"
   ]
  },
  {
   "cell_type": "markdown",
   "id": "37506560",
   "metadata": {},
   "source": [
    "*Energy and loundness most of peoples like to hear the songs."
   ]
  },
  {
   "cell_type": "code",
   "execution_count": null,
   "id": "2d9e50e8",
   "metadata": {},
   "outputs": [],
   "source": []
  },
  {
   "cell_type": "code",
   "execution_count": 48,
   "id": "2ddd5729",
   "metadata": {},
   "outputs": [
    {
     "data": {
      "text/plain": [
       "Genre             Artist Name  \n",
       "dfw rap           Post Malone      2\n",
       "canadian hip hop  Drake            1\n",
       "country rap       Lil Nas X        1\n",
       "electropop        Billie Eilish    1\n",
       "escape room       Lizzo            1\n",
       "latin             Daddy Yankee     1\n",
       "                  Lunay            1\n",
       "panamanian pop    Sech             1\n",
       "pop house         MEDUZA           1\n",
       "reggaeton         Bad Bunny        1\n",
       "Name: Track Name, dtype: int64"
      ]
     },
     "execution_count": 48,
     "metadata": {},
     "output_type": "execute_result"
    }
   ],
   "source": [
    "go[go.Popularity > 90].groupby(by=['Genre','Artist Name']).agg('count')['Track Name'].sort_values(ascending=False)[:10]"
   ]
  },
  {
   "cell_type": "code",
   "execution_count": 47,
   "id": "cb1ebef7",
   "metadata": {},
   "outputs": [
    {
     "data": {
      "text/plain": [
       "<AxesSubplot:xlabel='Genre,Artist Name'>"
      ]
     },
     "execution_count": 47,
     "metadata": {},
     "output_type": "execute_result"
    },
    {
     "data": {
      "image/png": "[encoded data removed]",
      "text/plain": [
       "<Figure size 1080x504 with 1 Axes>"
      ]
     },
     "metadata": {
      "needs_background": "light"
     },
     "output_type": "display_data"
    }
   ],
   "source": [
    "fig, ax = plt.subplots(figsize=(15,7))\n",
    "go[go.Popularity > 90].groupby(by=['Genre','Artist Name']).agg('count')['Track Name'].sort_values(ascending=False)[:10].plot(ax=ax)"
   ]
  },
  {
   "cell_type": "code",
   "execution_count": null,
   "id": "b1a0bcb3",
   "metadata": {},
   "outputs": [],
   "source": []
  },
  {
   "cell_type": "code",
   "execution_count": null,
   "id": "5dd4fe14",
   "metadata": {},
   "outputs": [],
   "source": []
  }
 ],
 "metadata": {
  "kernelspec": {
   "display_name": "Python 3 (ipykernel)",
   "language": "python",
   "name": "python3"
  },
  "language_info": {
   "codemirror_mode": {
    "name": "ipython",
    "version": 3
   },
   "file_extension": ".py",
   "mimetype": "text/x-python",
   "name": "python",
   "nbconvert_exporter": "python",
   "pygments_lexer": "ipython3",
   "version": "3.8.10"
  }
 },
 "nbformat": 4,
 "nbformat_minor": 5
}
